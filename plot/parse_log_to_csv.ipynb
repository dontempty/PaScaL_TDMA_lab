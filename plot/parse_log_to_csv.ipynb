{
 "cells": [
  {
   "cell_type": "code",
   "execution_count": 81,
   "id": "c9cad519",
   "metadata": {},
   "outputs": [],
   "source": [
    "import re\n",
    "import csv\n",
    "import pandas as pd\n",
    "import numpy as np"
   ]
  },
  {
   "cell_type": "code",
   "execution_count": 82,
   "id": "38ac4b49",
   "metadata": {},
   "outputs": [
    {
     "name": "stdout",
     "output_type": "stream",
     "text": [
      "[✓] CSV 파일 저장 완료: time_parsed.csv\n"
     ]
    }
   ],
   "source": [
    "import re\n",
    "import csv\n",
    "\n",
    "# 🔧 사용자 정의: 추적할 이벤트 목록\n",
    "# tracked_events = [\"prepare\", \"Igather\", \"solve_reduced\", \"Iscatter\", \"solve_remain\", \"solve_x\"]\n",
    "tracked_events = [\"solve_z\", \"solve_y\", \"solve_x\"]\n",
    "\n",
    "# 🔧 파일 설정\n",
    "input_file = \"time_log.txt\"\n",
    "output_file = \"time_parsed.csv\"\n",
    "\n",
    "# 정규식: [이벤트] elapsed: ... ns\n",
    "pattern_event = re.compile(r\"\\[(.+?)\\]\\s*elapsed:\\s*(\\d+)\\s*ms\")\n",
    "\n",
    "# 결과 리스트\n",
    "records = []\n",
    "current_rank = 0\n",
    "event_counter = 0\n",
    "events_per_rank = 0\n",
    "\n",
    "with open(input_file, \"r\") as f:\n",
    "    for line in f:\n",
    "        line = line.strip()\n",
    "        m = pattern_event.search(line)\n",
    "        if m:\n",
    "            label = m.group(1)\n",
    "            elapsed = int(m.group(2))\n",
    "\n",
    "            if label in tracked_events:\n",
    "                records.append((current_rank, label, elapsed))\n",
    "                event_counter += 1\n",
    "\n",
    "                # 랭크 판단: 이벤트 수를 기준으로 랭크 추정\n",
    "                if events_per_rank == 0 and records:\n",
    "                    # 처음 들어온 이벤트로부터 한 랭크의 이벤트 개수 추정\n",
    "                    events_per_rank = tracked_events.count(records[0][1])\n",
    "\n",
    "                if events_per_rank > 0 and event_counter % events_per_rank == 0:\n",
    "                    current_rank += 1\n",
    "\n",
    "# CSV 저장\n",
    "with open(output_file, \"w\", newline=\"\") as csvfile:\n",
    "    writer = csv.writer(csvfile)\n",
    "    writer.writerow([\"Rank\", \"Event\", \"Time_ns\"])\n",
    "    for r in records:\n",
    "        writer.writerow(r)\n",
    "\n",
    "print(f\"[✓] CSV 파일 저장 완료: {output_file}\")\n"
   ]
  },
  {
   "cell_type": "code",
   "execution_count": 83,
   "id": "5c78dcd8",
   "metadata": {},
   "outputs": [
    {
     "data": {
      "text/html": [
       "<div>\n",
       "<style scoped>\n",
       "    .dataframe tbody tr th:only-of-type {\n",
       "        vertical-align: middle;\n",
       "    }\n",
       "\n",
       "    .dataframe tbody tr th {\n",
       "        vertical-align: top;\n",
       "    }\n",
       "\n",
       "    .dataframe thead th {\n",
       "        text-align: right;\n",
       "    }\n",
       "</style>\n",
       "<table border=\"1\" class=\"dataframe\">\n",
       "  <thead>\n",
       "    <tr style=\"text-align: right;\">\n",
       "      <th></th>\n",
       "      <th>0</th>\n",
       "    </tr>\n",
       "  </thead>\n",
       "  <tbody>\n",
       "    <tr>\n",
       "      <th>0</th>\n",
       "      <td>12.0</td>\n",
       "    </tr>\n",
       "    <tr>\n",
       "      <th>1</th>\n",
       "      <td>13.0</td>\n",
       "    </tr>\n",
       "    <tr>\n",
       "      <th>2</th>\n",
       "      <td>32.0</td>\n",
       "    </tr>\n",
       "  </tbody>\n",
       "</table>\n",
       "</div>"
      ],
      "text/plain": [
       "      0\n",
       "0  12.0\n",
       "1  13.0\n",
       "2  32.0"
      ]
     },
     "execution_count": 83,
     "metadata": {},
     "output_type": "execute_result"
    }
   ],
   "source": [
    "data = pd.read_csv(\"time_parsed.csv\")\n",
    "\n",
    "ddata = np.zeros(len(tracked_events))\n",
    "\n",
    "for i in range(len(tracked_events)):\n",
    "    event_name = tracked_events[i]\n",
    "    time = np.max(data[\"Time_ns\"][data[\"Event\"]==event_name])\n",
    "    ddata[i] = time\n",
    "\n",
    "#ddata\n",
    "pd.DataFrame(ddata)"
   ]
  },
  {
   "cell_type": "code",
   "execution_count": null,
   "id": "31b0ba89",
   "metadata": {},
   "outputs": [],
   "source": []
  },
  {
   "cell_type": "code",
   "execution_count": null,
   "id": "7718ac07",
   "metadata": {},
   "outputs": [],
   "source": []
  },
  {
   "cell_type": "code",
   "execution_count": null,
   "id": "f257ed02",
   "metadata": {},
   "outputs": [],
   "source": []
  }
 ],
 "metadata": {
  "kernelspec": {
   "display_name": "base",
   "language": "python",
   "name": "python3"
  },
  "language_info": {
   "codemirror_mode": {
    "name": "ipython",
    "version": 3
   },
   "file_extension": ".py",
   "mimetype": "text/x-python",
   "name": "python",
   "nbconvert_exporter": "python",
   "pygments_lexer": "ipython3",
   "version": "3.12.7"
  }
 },
 "nbformat": 4,
 "nbformat_minor": 5
}
