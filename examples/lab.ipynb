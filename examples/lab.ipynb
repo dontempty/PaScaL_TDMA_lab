{
 "cells": [
  {
   "cell_type": "code",
   "execution_count": 1,
   "id": "eb3f1753",
   "metadata": {},
   "outputs": [],
   "source": [
    "import numpy as np\n",
    "import matplotlib.pyplot as plt"
   ]
  },
  {
   "cell_type": "code",
   "execution_count": 4,
   "id": "fa1936f1",
   "metadata": {},
   "outputs": [
    {
     "data": {
      "text/plain": [
       "array([[4., 4., 4., 4.],\n",
       "       [4., 4., 4., 4.],\n",
       "       [4., 4., 4., 4.],\n",
       "       [4., 4., 4., 4.]])"
      ]
     },
     "execution_count": 4,
     "metadata": {},
     "output_type": "execute_result"
    }
   ],
   "source": [
    "import numpy as np\n",
    "\n",
    "# Given flat data\n",
    "haha = \"4 4 4 4 4 4 4 4 4 4 4 4 4 4 4 4 1 5 5 1 1 5 5 1 1 5 5 1 1 7 7 1 1 5 5 1 1 5 5 1 1 5 5 1 1 7 7 1 4 4 4 4 4 4 4 4 4 4 4 4 4 4 4 4\"\n",
    "flat = list(map(float, haha.split()))\n",
    "\n",
    "# Dimensions\n",
    "mx, my, mz = 4, 4, 4\n",
    "\n",
    "# Reshape to 3D\n",
    "arr3d = np.array(flat).reshape((mz, my, mx))\n",
    "\n",
    "# Extract and print each face\n",
    "arr3d[0, :, :]\n"
   ]
  },
  {
   "cell_type": "code",
   "execution_count": 5,
   "id": "1e466a59",
   "metadata": {},
   "outputs": [
    {
     "name": "stdout",
     "output_type": "stream",
     "text": [
      "i=0\n",
      " [[4. 4. 4. 4.]\n",
      " [1. 1. 1. 1.]\n",
      " [1. 1. 1. 1.]\n",
      " [4. 4. 4. 4.]]\n",
      "i=-1\n",
      " [[4. 4. 4. 4.]\n",
      " [1. 1. 1. 1.]\n",
      " [1. 1. 1. 1.]\n",
      " [4. 4. 4. 4.]]\n",
      "j=0\n",
      " [[4. 4. 4. 4.]\n",
      " [1. 5. 5. 1.]\n",
      " [1. 5. 5. 1.]\n",
      " [4. 4. 4. 4.]]\n",
      "j=-1\n",
      " [[4. 4. 4. 4.]\n",
      " [1. 7. 7. 1.]\n",
      " [1. 7. 7. 1.]\n",
      " [4. 4. 4. 4.]]\n",
      "k=0\n",
      " [[4. 4. 4. 4.]\n",
      " [4. 4. 4. 4.]\n",
      " [4. 4. 4. 4.]\n",
      " [4. 4. 4. 4.]]\n",
      "k=-1\n",
      " [[4. 4. 4. 4.]\n",
      " [4. 4. 4. 4.]\n",
      " [4. 4. 4. 4.]\n",
      " [4. 4. 4. 4.]]\n"
     ]
    }
   ],
   "source": [
    "# 이제 각 면(ghost layer) 확인\n",
    "print(\"i=0\\n\", arr3d[:, :, 0])\n",
    "print(\"i=-1\\n\", arr3d[:, :, -1])\n",
    "\n",
    "print(\"j=0\\n\", arr3d[:, 0, :])\n",
    "print(\"j=-1\\n\", arr3d[:, -1, :])\n",
    "\n",
    "print(\"k=0\\n\", arr3d[0, :, :])\n",
    "print(\"k=-1\\n\", arr3d[-1, :, :])"
   ]
  },
  {
   "cell_type": "code",
   "execution_count": null,
   "id": "5c5f29e6",
   "metadata": {},
   "outputs": [],
   "source": []
  }
 ],
 "metadata": {
  "kernelspec": {
   "display_name": "base",
   "language": "python",
   "name": "python3"
  },
  "language_info": {
   "codemirror_mode": {
    "name": "ipython",
    "version": 3
   },
   "file_extension": ".py",
   "mimetype": "text/x-python",
   "name": "python",
   "nbconvert_exporter": "python",
   "pygments_lexer": "ipython3",
   "version": "3.12.7"
  }
 },
 "nbformat": 4,
 "nbformat_minor": 5
}
