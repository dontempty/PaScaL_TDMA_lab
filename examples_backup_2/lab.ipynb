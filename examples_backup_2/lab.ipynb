{
 "cells": [
  {
   "cell_type": "code",
   "execution_count": 1,
   "id": "eb3f1753",
   "metadata": {},
   "outputs": [],
   "source": [
    "import numpy as np\n",
    "import matplotlib.pyplot as plt"
   ]
  },
  {
   "cell_type": "code",
   "execution_count": 21,
   "id": "fa1936f1",
   "metadata": {},
   "outputs": [
    {
     "name": "stdout",
     "output_type": "stream",
     "text": [
      "Back face (k=0):\n",
      "[[4. 4. 4. 4.]\n",
      " [4. 4. 4. 4.]\n",
      " [4. 4. 4. 4.]\n",
      " [4. 4. 4. 4.]] \n",
      "\n",
      "Front face (k=3):\n",
      "[[4. 4. 4. 4.]\n",
      " [4. 4. 4. 4.]\n",
      " [4. 4. 4. 4.]\n",
      " [4. 4. 4. 4.]] \n",
      "\n",
      "Bottom face (j=0):\n",
      "[[4. 4. 4. 4.]\n",
      " [1. 0. 0. 1.]\n",
      " [1. 0. 0. 1.]\n",
      " [4. 4. 4. 4.]] \n",
      "\n",
      "Top face (j=3):\n",
      "[[4. 4. 4. 4.]\n",
      " [1. 2. 2. 1.]\n",
      " [1. 2. 2. 1.]\n",
      " [4. 4. 4. 4.]] \n",
      "\n",
      "Left face (i=0):\n",
      "[[4. 4. 4. 4.]\n",
      " [1. 1. 1. 1.]\n",
      " [1. 1. 1. 1.]\n",
      " [4. 4. 4. 4.]] \n",
      "\n",
      "Right face (i=3):\n",
      "[[4. 4. 4. 4.]\n",
      " [1. 1. 1. 1.]\n",
      " [1. 1. 1. 1.]\n",
      " [4. 4. 4. 4.]] \n",
      "\n"
     ]
    }
   ],
   "source": [
    "import numpy as np\n",
    "\n",
    "# Given flat data\n",
    "haha = \"4 4 4 4 4 4 4 4 4 4 4 4 4 4 4 4 1 0 0 1 1 0 0 1 1 0 0 1 1 2 2 1 1 0 0 1 1 0 0 1 1 0 0 1 1 2 2 1 4 4 4 4 4 4 4 4 4 4 4 4 4 4 4 4\"\n",
    "flat = list(map(float, haha.split()))\n",
    "\n",
    "# Dimensions\n",
    "mx, my, mz = 4, 4, 4\n",
    "\n",
    "# Reshape to 3D\n",
    "arr3d = np.array(flat).reshape((mz, my, mx))\n",
    "\n",
    "# Extract and print each face\n",
    "print(\"Back face (k=0):\")\n",
    "print(arr3d[0, :, :], \"\\n\")\n",
    "\n",
    "print(\"Front face (k=3):\")\n",
    "print(arr3d[3, :, :], \"\\n\")\n",
    "\n",
    "print(\"Bottom face (j=0):\")\n",
    "print(arr3d[:, 0, :], \"\\n\")\n",
    "\n",
    "print(\"Top face (j=3):\")\n",
    "print(arr3d[:, 3, :], \"\\n\")\n",
    "\n",
    "print(\"Left face (i=0):\")\n",
    "print(arr3d[:, :, 0], \"\\n\")\n",
    "\n",
    "print(\"Right face (i=3):\")\n",
    "print(arr3d[:, :, 3], \"\\n\")\n"
   ]
  },
  {
   "cell_type": "code",
   "execution_count": 20,
   "id": "1e466a59",
   "metadata": {},
   "outputs": [
    {
     "data": {
      "text/plain": [
       "array([[1., 0., 0., 1.],\n",
       "       [1., 0., 0., 1.],\n",
       "       [1., 0., 0., 1.],\n",
       "       [1., 2., 2., 1.]])"
      ]
     },
     "execution_count": 20,
     "metadata": {},
     "output_type": "execute_result"
    }
   ],
   "source": [
    "arr3d[1, :, :]"
   ]
  },
  {
   "cell_type": "code",
   "execution_count": null,
   "id": "5c5f29e6",
   "metadata": {},
   "outputs": [],
   "source": []
  }
 ],
 "metadata": {
  "kernelspec": {
   "display_name": "base",
   "language": "python",
   "name": "python3"
  },
  "language_info": {
   "codemirror_mode": {
    "name": "ipython",
    "version": 3
   },
   "file_extension": ".py",
   "mimetype": "text/x-python",
   "name": "python",
   "nbconvert_exporter": "python",
   "pygments_lexer": "ipython3",
   "version": "3.12.7"
  }
 },
 "nbformat": 4,
 "nbformat_minor": 5
}
