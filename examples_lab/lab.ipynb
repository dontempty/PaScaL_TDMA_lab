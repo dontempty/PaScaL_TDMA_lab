{
 "cells": [
  {
   "cell_type": "code",
   "execution_count": 2,
   "id": "eb3f1753",
   "metadata": {},
   "outputs": [],
   "source": [
    "import numpy as np\n",
    "import pandas as pd\n",
    "import matplotlib.pyplot as plt"
   ]
  },
  {
   "cell_type": "markdown",
   "id": "a71a32b0",
   "metadata": {},
   "source": [
    "# Debug Domain communicate"
   ]
  },
  {
   "cell_type": "code",
   "execution_count": null,
   "id": "fa1936f1",
   "metadata": {},
   "outputs": [],
   "source": [
    "# Given flat data\n",
    "haha = \"0 0 0 0 2 0 0 0 0 2 0 0 0 0 2 0 0 0 0 2 1 1 1 1 1\"\n",
    "flat = list(map(float, haha.split()))\n",
    "\n",
    "# Dimensions\n",
    "mx, my= 5, 5\n",
    "\n",
    "# Reshape to 3D\n",
    "arr3d = np.array(flat).reshape((my, mx))\n"
   ]
  },
  {
   "cell_type": "code",
   "execution_count": 2,
   "id": "1e466a59",
   "metadata": {},
   "outputs": [
    {
     "name": "stdout",
     "output_type": "stream",
     "text": [
      "i=0\n",
      " [0. 0. 0. 0. 1.]\n",
      "i=-1\n",
      " [2. 2. 2. 2. 1.]\n",
      "j=0\n",
      " [0. 0. 0. 0. 2.]\n",
      "j=-1\n",
      " [1. 1. 1. 1. 1.]\n"
     ]
    }
   ],
   "source": [
    "# 이제 각 면(ghost layer) 확인\n",
    "print(\"i=0\\n\", arr3d[:, 0])\n",
    "print(\"i=-1\\n\", arr3d[:, -1])\n",
    "\n",
    "print(\"j=0\\n\", arr3d[0, :])\n",
    "print(\"j=-1\\n\", arr3d[-1, :])"
   ]
  },
  {
   "cell_type": "code",
   "execution_count": 3,
   "id": "5c5f29e6",
   "metadata": {},
   "outputs": [
    {
     "data": {
      "text/plain": [
       "array([[0., 0., 0., 0., 2.],\n",
       "       [0., 0., 0., 0., 2.],\n",
       "       [0., 0., 0., 0., 2.],\n",
       "       [0., 0., 0., 0., 2.],\n",
       "       [1., 1., 1., 1., 1.]])"
      ]
     },
     "execution_count": 3,
     "metadata": {},
     "output_type": "execute_result"
    }
   ],
   "source": [
    "arr3d"
   ]
  },
  {
   "cell_type": "markdown",
   "id": "6c038d02",
   "metadata": {},
   "source": [
    "# Debug rhs"
   ]
  },
  {
   "cell_type": "code",
   "execution_count": 15,
   "id": "ca313d5e",
   "metadata": {},
   "outputs": [],
   "source": [
    "nx = 15 # 여기서는 cell의 개수\n",
    "ny = 15\n",
    "Lx = 1\n",
    "Ly = 1\n",
    "dx = 1/(nx)\n",
    "dy = 1/ny\n",
    "\n",
    "f = np.zeros((nx+2, ny+2))\n",
    "\n",
    "x = np.zeros(nx+2)\n",
    "y = np.zeros(ny+2)\n",
    "\n",
    "for i in range(nx+2):\n",
    "    x[i] = dx/2 + (i-1)*dx\n",
    "for j in range(ny+2):\n",
    "    y[j] = dy/2 + (j-1)*dy\n",
    "\n",
    "for j in range(ny+2):\n",
    "    for i in range(nx+2):\n",
    "        f[i][j] = -2 * np.pi * np.sin(np.pi*x[i]) * np.sin(np.pi*y[j])"
   ]
  },
  {
   "cell_type": "code",
   "execution_count": 16,
   "id": "c9c032ce",
   "metadata": {},
   "outputs": [
    {
     "data": {
      "text/plain": [
       "array([[-0.06865134,  0.06865134,  0.20295362,  0.32838585,  0.43946605,  0.53133947,  0.59999081,  0.64241967,  0.6567717 ,  0.64241967,  0.59999081,  0.53133947,  0.43946605,  0.32838585,  0.20295362,  0.06865134, -0.06865134],\n",
       "       [ 0.06865134, -0.06865134, -0.20295362, -0.32838585, -0.43946605, -0.53133947, -0.59999081, -0.64241967, -0.6567717 , -0.64241967, -0.59999081, -0.53133947, -0.43946605, -0.32838585, -0.20295362, -0.06865134,  0.06865134],\n",
       "       [ 0.20295362, -0.20295362, -0.59999081, -0.97080552, -1.29919137, -1.57079633, -1.77374994, -1.89918218, -1.94161104, -1.89918218, -1.77374994, -1.57079633, -1.29919137, -0.97080552, -0.59999081, -0.20295362,  0.20295362],\n",
       "       [ 0.32838585, -0.32838585, -0.97080552, -1.57079633, -2.1021358 , -2.54160185, -2.8699877 , -3.07294132, -3.14159265, -3.07294132, -2.8699877 , -2.54160185, -2.1021358 , -1.57079633, -0.97080552, -0.32838585,  0.32838585],\n",
       "       [ 0.43946605, -0.43946605, -1.29919137, -2.1021358 , -2.8132068 , -3.40132717, -3.84079322, -4.11239817, -4.20427159, -4.11239817, -3.84079322, -3.40132717, -2.8132068 , -2.1021358 , -1.29919137, -0.43946605,  0.43946605],\n",
       "       [ 0.53133947, -0.53133947, -1.57079633, -2.54160185, -3.40132717, -4.11239817, -4.64373764, -4.9721235 , -5.08320369, -4.9721235 , -4.64373764, -4.11239817, -3.40132717, -2.54160185, -1.57079633, -0.53133947,  0.53133947],\n",
       "       [ 0.59999081, -0.59999081, -1.77374994, -2.8699877 , -3.84079322, -4.64373764, -5.24372845, -5.61454316, -5.7399754 , -5.61454316, -5.24372845, -4.64373764, -3.84079322, -2.8699877 , -1.77374994, -0.59999081,  0.59999081],\n",
       "       [ 0.64241967, -0.64241967, -1.89918218, -3.07294132, -4.11239817, -4.9721235 , -5.61454316, -6.01158035, -6.14588263, -6.01158035, -5.61454316, -4.9721235 , -4.11239817, -3.07294132, -1.89918218, -0.64241967,  0.64241967],\n",
       "       [ 0.6567717 , -0.6567717 , -1.94161104, -3.14159265, -4.20427159, -5.08320369, -5.7399754 , -6.14588263, -6.28318531, -6.14588263, -5.7399754 , -5.08320369, -4.20427159, -3.14159265, -1.94161104, -0.6567717 ,  0.6567717 ],\n",
       "       [ 0.64241967, -0.64241967, -1.89918218, -3.07294132, -4.11239817, -4.9721235 , -5.61454316, -6.01158035, -6.14588263, -6.01158035, -5.61454316, -4.9721235 , -4.11239817, -3.07294132, -1.89918218, -0.64241967,  0.64241967],\n",
       "       [ 0.59999081, -0.59999081, -1.77374994, -2.8699877 , -3.84079322, -4.64373764, -5.24372845, -5.61454316, -5.7399754 , -5.61454316, -5.24372845, -4.64373764, -3.84079322, -2.8699877 , -1.77374994, -0.59999081,  0.59999081],\n",
       "       [ 0.53133947, -0.53133947, -1.57079633, -2.54160185, -3.40132717, -4.11239817, -4.64373764, -4.9721235 , -5.08320369, -4.9721235 , -4.64373764, -4.11239817, -3.40132717, -2.54160185, -1.57079633, -0.53133947,  0.53133947],\n",
       "       [ 0.43946605, -0.43946605, -1.29919137, -2.1021358 , -2.8132068 , -3.40132717, -3.84079322, -4.11239817, -4.20427159, -4.11239817, -3.84079322, -3.40132717, -2.8132068 , -2.1021358 , -1.29919137, -0.43946605,  0.43946605],\n",
       "       [ 0.32838585, -0.32838585, -0.97080552, -1.57079633, -2.1021358 , -2.54160185, -2.8699877 , -3.07294132, -3.14159265, -3.07294132, -2.8699877 , -2.54160185, -2.1021358 , -1.57079633, -0.97080552, -0.32838585,  0.32838585],\n",
       "       [ 0.20295362, -0.20295362, -0.59999081, -0.97080552, -1.29919137, -1.57079633, -1.77374994, -1.89918218, -1.94161104, -1.89918218, -1.77374994, -1.57079633, -1.29919137, -0.97080552, -0.59999081, -0.20295362,  0.20295362],\n",
       "       [ 0.06865134, -0.06865134, -0.20295362, -0.32838585, -0.43946605, -0.53133947, -0.59999081, -0.64241967, -0.6567717 , -0.64241967, -0.59999081, -0.53133947, -0.43946605, -0.32838585, -0.20295362, -0.06865134,  0.06865134],\n",
       "       [-0.06865134,  0.06865134,  0.20295362,  0.32838585,  0.43946605,  0.53133947,  0.59999081,  0.64241967,  0.6567717 ,  0.64241967,  0.59999081,  0.53133947,  0.43946605,  0.32838585,  0.20295362,  0.06865134, -0.06865134]])"
      ]
     },
     "execution_count": 16,
     "metadata": {},
     "output_type": "execute_result"
    }
   ],
   "source": [
    "np.set_printoptions(threshold=np.inf, linewidth=np.inf) \n",
    "f"
   ]
  },
  {
   "cell_type": "code",
   "execution_count": 17,
   "id": "4041e858",
   "metadata": {},
   "outputs": [],
   "source": [
    "haha = \"-0.0686513 0.0686513 0.202954 0.328386 0.439466 0.531339 0.599991 0.64242 0.656772 0.64242 0.0686513 -0.0686513 -0.202954 -0.328386 -0.439466 -0.531339 -0.599991 -0.64242 -0.656772 -0.64242 0.202954 -0.202954 -0.599991 -0.970806 -1.29919 -1.5708 -1.77375 -1.89918 -1.94161 -1.89918 0.328386 -0.328386 -0.970806 -1.5708 -2.10214 -2.5416 -2.86999 -3.07294 -3.14159 -3.07294 0.439466 -0.439466 -1.29919 -2.10214 -2.81321 -3.40133 -3.84079 -4.1124 -4.20427 -4.1124 0.531339 -0.531339 -1.5708 -2.5416 -3.40133 -4.1124 -4.64374 -4.97212 -5.0832 -4.97212 0.599991 -0.599991 -1.77375 -2.86999 -3.84079 -4.64374 -5.24373 -5.61454 -5.73998 -5.61454 0.64242 -0.64242 -1.89918 -3.07294 -4.1124 -4.97212 -5.61454 -6.01158 -6.14588 -6.01158 0.656772 -0.656772 -1.94161 -3.14159 -4.20427 -5.0832 -5.73998 -6.14588 -6.28319 -6.14588 0.64242 -0.64242 -1.89918 -3.07294 -4.1124 -4.97212 -5.61454 -6.01158 -6.14588 -6.01158\""
   ]
  },
  {
   "cell_type": "code",
   "execution_count": 18,
   "id": "4263ed4e",
   "metadata": {},
   "outputs": [
    {
     "name": "stdout",
     "output_type": "stream",
     "text": [
      "(100,)\n"
     ]
    }
   ],
   "source": [
    "flat = np.array(list(map(float, haha.split())))\n",
    "print(flat.shape)"
   ]
  },
  {
   "cell_type": "code",
   "execution_count": 19,
   "id": "dd9ea5f6",
   "metadata": {},
   "outputs": [
    {
     "data": {
      "text/plain": [
       "array([[ 3.69979872e-08, -3.69979872e-08,  3.81858515e-07,  1.47707309e-07, -4.89285570e-08, -4.70434176e-07,  1.92567837e-07,  3.32929957e-07,  2.95414619e-07,  3.32929957e-07],\n",
       "       [-3.69979872e-08,  3.69979872e-08, -3.81858515e-07, -1.47707309e-07,  4.89285570e-08,  4.70434176e-07, -1.92567837e-07, -3.32929957e-07, -2.95414619e-07, -3.32929957e-07],\n",
       "       [ 3.81858515e-07, -3.81858515e-07, -1.92567837e-07, -4.80637267e-07,  1.37165542e-06, -3.67320510e-06, -5.50636181e-08,  2.17908759e-06,  1.03872547e-06,  2.17908759e-06],\n",
       "       [ 1.47707309e-07, -1.47707309e-07, -4.80637267e-07, -3.67320510e-06, -4.20277093e-06,  1.84615763e-06, -2.30154968e-06,  1.31659181e-06,  2.65358979e-06,  1.31659181e-06],\n",
       "       [-4.89285570e-08,  4.89285570e-08,  1.37165542e-06, -4.20277093e-06, -3.19870290e-06, -2.83111550e-06,  3.21781305e-06, -1.82704747e-06,  1.59445815e-06, -1.82704747e-06],\n",
       "       [-4.70434176e-07,  4.70434176e-07, -3.67320510e-06,  1.84615763e-06, -2.83111550e-06, -1.82704747e-06, -2.35661330e-06,  3.49567939e-06,  3.69231526e-06,  3.49567939e-06],\n",
       "       [ 1.92567837e-07, -1.92567837e-07, -5.50636183e-08, -2.30154968e-06,  3.21781305e-06, -2.35661330e-06, -1.54918114e-06,  3.16274944e-06, -4.60309936e-06,  3.16274944e-06],\n",
       "       [ 3.32929957e-07, -3.32929957e-07,  2.17908759e-06,  1.31659181e-06, -1.82704747e-06,  3.49567939e-06,  3.16274944e-06,  3.52040114e-07,  2.63318361e-06,  3.52040114e-07],\n",
       "       [ 2.95414619e-07, -2.95414619e-07,  1.03872547e-06,  2.65358979e-06,  1.59445815e-06,  3.69231526e-06, -4.60309936e-06,  2.63318361e-06, -4.69282041e-06,  2.63318361e-06],\n",
       "       [ 3.32929957e-07, -3.32929957e-07,  2.17908759e-06,  1.31659181e-06, -1.82704747e-06,  3.49567939e-06,  3.16274944e-06,  3.52040114e-07,  2.63318361e-06,  3.52040114e-07]])"
      ]
     },
     "execution_count": 19,
     "metadata": {},
     "output_type": "execute_result"
    }
   ],
   "source": [
    "flat.reshape(10, 10) - f[:10, :10]"
   ]
  },
  {
   "cell_type": "code",
   "execution_count": 33,
   "id": "8c72c210",
   "metadata": {},
   "outputs": [],
   "source": [
    "haha = \"0 0 0 0 0 0 0 0 0 0 0 5 6 6 6 6 6 6 6 0 0 5 6 6 6 6 6 6 6 0 0 5 6 6 6 6 6 6 6 0 0 5 6 6 6 6 6 6 6 0 0 5 6 6 6 6 6 6 6 0 0 5 6 6 6 6 6 6 6 0 0 5 6 6 6 6 6 6 6 0 0 5 6 6 6 6 6 6 6 0 0 0 0 0 0 0 0 0 0 0\"\n",
    "flat = np.array(list(map(float, haha.split())))"
   ]
  },
  {
   "cell_type": "code",
   "execution_count": 34,
   "id": "5b500895",
   "metadata": {},
   "outputs": [
    {
     "data": {
      "text/plain": [
       "array([[0., 0., 0., 0., 0., 0., 0., 0., 0., 0.],\n",
       "       [0., 5., 6., 6., 6., 6., 6., 6., 6., 0.],\n",
       "       [0., 5., 6., 6., 6., 6., 6., 6., 6., 0.],\n",
       "       [0., 5., 6., 6., 6., 6., 6., 6., 6., 0.],\n",
       "       [0., 5., 6., 6., 6., 6., 6., 6., 6., 0.],\n",
       "       [0., 5., 6., 6., 6., 6., 6., 6., 6., 0.],\n",
       "       [0., 5., 6., 6., 6., 6., 6., 6., 6., 0.],\n",
       "       [0., 5., 6., 6., 6., 6., 6., 6., 6., 0.],\n",
       "       [0., 5., 6., 6., 6., 6., 6., 6., 6., 0.],\n",
       "       [0., 0., 0., 0., 0., 0., 0., 0., 0., 0.]])"
      ]
     },
     "execution_count": 34,
     "metadata": {},
     "output_type": "execute_result"
    }
   ],
   "source": [
    "flat.reshape(10, 10)"
   ]
  },
  {
   "cell_type": "markdown",
   "id": "bf6967dd",
   "metadata": {},
   "source": [
    "# Debug A, B, C, D"
   ]
  },
  {
   "cell_type": "code",
   "execution_count": 4,
   "id": "986962cc",
   "metadata": {},
   "outputs": [
    {
     "name": "stdout",
     "output_type": "stream",
     "text": [
      "[1. 1. 1. 1. 1. 1. 1. 1.]\n",
      "[4. 4. 4. 4. 4. 4. 4. 4.]\n",
      "[1. 1. 1. 1. 1. 1. 1. 1.]\n",
      "[6. 6. 6. 6. 6. 6. 6. 5.]\n"
     ]
    }
   ],
   "source": [
    "nx = 16 # 여기서는 cell의 개수\n",
    "ny = 16\n",
    "Lx = 1\n",
    "Ly = 1\n",
    "dx = 1/(nx)\n",
    "dy = 1/ny\n",
    "dxdx = dx**2\n",
    "\n",
    "npx = 2\n",
    "npy = 2\n",
    "\n",
    "\n",
    "nx1 = int(nx/2) + 2\n",
    "ny1 = int(ny/2) + 2\n",
    "\n",
    "A = np.zeros(nx1-2)\n",
    "B = np.zeros(nx1-2)\n",
    "C = np.zeros(nx1-2)\n",
    "D = np.zeros(nx1-2)\n",
    "\n",
    "idxx = 1\n",
    "for i in range(nx1-2):\n",
    "    if idxx==0 and i==0:\n",
    "        D[i] = 5\n",
    "    elif idxx==npx-1 and i==nx1-3:\n",
    "        D[i] = 5\n",
    "    else:\n",
    "        D[i] = 6\n",
    "\n",
    "for i in range(nx1-2):\n",
    "    A[i] = 1\n",
    "    B[i] = 4\n",
    "    C[i] = 1\n",
    "\n",
    "print(A)\n",
    "print(B)\n",
    "print(C)\n",
    "print(D)\n"
   ]
  },
  {
   "cell_type": "code",
   "execution_count": 5,
   "id": "b4ad17c6",
   "metadata": {},
   "outputs": [
    {
     "name": "stdout",
     "output_type": "stream",
     "text": [
      "[ 2.67949190e-01  2.67949158e-01 -7.17966335e-02  1.92373755e-02\n",
      " -5.15286843e-03  1.37409825e-03 -3.43524562e-04  9.20471281e-05]\n",
      "[4. 4. 4. 4. 4. 4. 4. 4.]\n",
      "[ 9.20471281e-05 -3.43524562e-04  1.37409825e-03 -5.15286843e-03\n",
      "  1.92373755e-02 -7.17966335e-02  2.67949158e-01  2.67949190e-01]\n",
      "[1.26804124 1.26760563 0.92957746 1.01408451 1.01408451 0.92957746\n",
      " 1.26760563 1.00009205]\n"
     ]
    }
   ],
   "source": [
    "n_row = nx1-2\n",
    "\n",
    "A[0] = A[0]/B[0]\n",
    "D[0] = D[0]/B[0]\n",
    "C[0] = C[0]/B[0]\n",
    "\n",
    "A[1] = A[1]/B[1]\n",
    "D[1] = D[1]/B[1]\n",
    "C[1] = C[1]/B[1]\n",
    "\n",
    "for i in range(2, n_row):\n",
    "    r = 1/(B[i] - A[i]*C[i-1])\n",
    "    D[i] = r*(D[i] - A[i]*D[i-1])\n",
    "    C[i] = r*C[i]\n",
    "    A[i] = -r*A[i]*A[i-1]\n",
    "\n",
    "for i in range(n_row-3, 0, -1):\n",
    "    D[i] = D[i] - C[i]*D[i+1]\n",
    "    A[i] = A[i] - C[i]*A[i+1]\n",
    "    C[i] = -C[i]*C[i+1]\n",
    "\n",
    "r = 1/(1-A[1]*C[0])\n",
    "D[0] = r*(D[0]-C[0]*D[1])\n",
    "A[0] = r*A[0]\n",
    "C[0] = -r*C[0]*C[1]\n",
    "\n",
    "print(A)\n",
    "print(B)\n",
    "print(C)\n",
    "print(D)"
   ]
  },
  {
   "cell_type": "code",
   "execution_count": 13,
   "id": "77c022ab",
   "metadata": {},
   "outputs": [],
   "source": [
    "A0 = np.array([ 2.67949190e-01,  2.67949158e-01, -7.17966335e-02,  1.92373755e-02, -5.15286843e-03,  1.37409825e-03, -3.43524562e-04,  9.20471281e-05])\n",
    "B0 = np.array([4., 4., 4., 4., 4., 4., 4., 4.])/4\n",
    "C0 = np.array([ 9.20471281e-05, -3.43524562e-04 , 1.37409825e-03 ,-5.15286843e-03,  1.92373755e-02 ,-7.17966335e-02  ,2.67949158e-01  ,2.67949190e-01])\n",
    "D0 = np.array([1.00009205 ,1.26760563, 0.92957746 ,1.01408451 ,1.01408451, 0.92957746, 1.26760563 ,1.26804124])\n",
    "\n",
    "A1 = np.array([ 2.67949190e-01 , 2.67949158e-01 ,-7.17966335e-02 , 1.92373755e-02, -5.15286843e-03 , 1.37409825e-03 ,-3.43524562e-04 , 9.20471281e-05])\n",
    "B1 = np.array([4., 4., 4., 4., 4., 4., 4., 4.])/4\n",
    "C1 = np.array([ 9.20471281e-05 ,-3.43524562e-04  ,1.37409825e-03 ,-5.15286843e-03,  1.92373755e-02 ,-7.17966335e-02 , 2.67949158e-01 , 2.67949190e-01])\n",
    "D1 = np.array([1.26804124, 1.26760563, 0.92957746, 1.01408451, 1.01408451, 0.92957746, 1.26760563, 1.00009205])"
   ]
  },
  {
   "cell_type": "code",
   "execution_count": 14,
   "id": "bde14f2e",
   "metadata": {},
   "outputs": [
    {
     "name": "stdout",
     "output_type": "stream",
     "text": [
      "[2.67949190e-01 9.20471281e-05 2.67949190e-01 9.20471281e-05]\n",
      "[1. 1. 1. 1.]\n",
      "[9.20471281e-05 2.67949190e-01 9.20471281e-05 2.67949190e-01]\n",
      "[1.00009205 1.26804124 1.26804124 1.00009205]\n"
     ]
    }
   ],
   "source": [
    "A_rt = np.zeros(2*npx)\n",
    "B_rt = np.zeros(2*npx)\n",
    "C_rt = np.zeros(2*npx)\n",
    "D_rt = np.zeros(2*npx)\n",
    "\n",
    "A_list = [[A0[0], A0[-1]], [A1[0], A1[-1]]]\n",
    "B_list = [[B0[0], B0[-1]], [B1[0], B1[-1]]]\n",
    "C_list = [[C0[0], C0[-1]], [C1[0], C1[-1]]]\n",
    "D_list = [[D0[0], D0[-1]], [D1[0], D1[-1]]]\n",
    "\n",
    "for i in range(npx):\n",
    "    for j in range(2):\n",
    "        idx = i*2 + j\n",
    "        A_rt[idx] = A_list[i][j]\n",
    "        B_rt[idx] = B_list[i][j]\n",
    "        C_rt[idx] = C_list[i][j]\n",
    "        D_rt[idx] = D_list[i][j]\n",
    "\n",
    "print(A_rt)\n",
    "print(B_rt)\n",
    "print(C_rt)\n",
    "print(D_rt)"
   ]
  },
  {
   "cell_type": "code",
   "execution_count": 15,
   "id": "d84f519d",
   "metadata": {},
   "outputs": [
    {
     "name": "stdout",
     "output_type": "stream",
     "text": [
      "[1. 1. 1. 1.]\n"
     ]
    }
   ],
   "source": [
    "def TDMA(a, b, c, d, n1):\n",
    "    # 0) 첫 번째 요소 정규화\n",
    "    d[0] /= b[0]\n",
    "    c[0] /= b[0]\n",
    "\n",
    "    # 1) i=1,2,...,n1-1 까지 전진 소거\n",
    "    for i in range(1, n1):\n",
    "        r     = 1/(b[i] - a[i]*c[i-1])\n",
    "        d[i]  = r*(d[i] - a[i]*d[i-1])\n",
    "        c[i]  = r*c[i]\n",
    "\n",
    "    # 2) 후진 대입\n",
    "    for i in range(n1-2, -1, -1):\n",
    "        d[i]  = d[i] - c[i]*d[i+1]\n",
    "\n",
    "    return d\n",
    "\n",
    "\n",
    "DD = TDMA(A_rt, B_rt, C_rt, D_rt, 4)\n",
    "print(DD)"
   ]
  },
  {
   "cell_type": "markdown",
   "id": "d4dfa856",
   "metadata": {},
   "source": [
    "# Solution"
   ]
  },
  {
   "cell_type": "code",
   "execution_count": 472,
   "id": "31195091",
   "metadata": {},
   "outputs": [],
   "source": [
    "folder_name = \"results\"\n",
    "file_name = \"rhs\"\n",
    "\n",
    "x0 = -1\n",
    "xN = 1\n",
    "y0 = -1\n",
    "yN = 1\n",
    "\n",
    "nx = 64\n",
    "ny = 64\n",
    "\n",
    "nx1 = nx+2\n",
    "ny1 = ny+2\n",
    "\n",
    "npx = 2\n",
    "npy = 2 \n",
    "\n",
    "mx = nx/npx\n",
    "my = ny/npy\n",
    "\n",
    "dx = (xN-x0)/nx\n",
    "dy = (yN-y0)/ny\n",
    "\n",
    "x = np.zeros(nx+2)\n",
    "y = np.zeros(ny+2)\n",
    "\n",
    "for i in range(nx+2):\n",
    "    if i==0:\n",
    "        x[i] = x0\n",
    "    elif i==nx+1:\n",
    "        x[i] = xN\n",
    "    else:\n",
    "        x[i] = x0 + dx/2 + dx*(i-1)\n",
    "for j in range(ny+2):\n",
    "    if j==0:\n",
    "        y[j] = y0\n",
    "    elif j==ny+1:\n",
    "        y[j] = yN\n",
    "    else:\n",
    "        y[j] = y0 + dy/2 + dy*(j-1)"
   ]
  },
  {
   "cell_type": "code",
   "execution_count": 473,
   "id": "3b32005c",
   "metadata": {},
   "outputs": [
    {
     "data": {
      "text/plain": [
       "<matplotlib.colorbar.Colorbar at 0x1859e475880>"
      ]
     },
     "execution_count": 473,
     "metadata": {},
     "output_type": "execute_result"
    },
    {
     "data": {
      "image/png": "[encoded data removed]",
      "text/plain": [
       "<Figure size 600x500 with 2 Axes>"
      ]
     },
     "metadata": {},
     "output_type": "display_data"
    }
   ],
   "source": [
    "solution = np.zeros((ny+2, nx+2))\n",
    "\n",
    "for j in range(npy):\n",
    "    for i in range(npx):\n",
    "        temp = np.array(pd.read_csv(f\"{folder_name}/{file_name}_{j}{i}.csv\", header=None))\n",
    "        \n",
    "        j_idx_sta = int(j*mx) + 1\n",
    "        j_idx_end = int((j+1)*mx) + 1\n",
    "        i_idx_sta = int(i*mx) + 1 \n",
    "        i_idx_end = int((i+1)*mx) + 1\n",
    "        \n",
    "        solution[j_idx_sta:j_idx_end, i_idx_sta:i_idx_end] = temp[1:-1, 1:-1]\n",
    "\n",
    "exact_solution = np.zeros((ny+2, nx+2))\n",
    "\n",
    "for j in range(0, ny+2):\n",
    "    for i in range(0, nx+2):\n",
    "        exact_solution[j, i] = (1 - x[i]**2)*(1 - y[j]**2)\n",
    "\n",
    "error = solution - exact_solution\n",
    "\n",
    "X, Y = np.meshgrid(x, y)\n",
    "\n",
    "plt.figure(figsize=(6, 5))        \n",
    "plt.contourf(X, Y, error)\n",
    "plt.colorbar()\n",
    "\n",
    "# plt.plot([0, 0], [-1, 1])\n",
    "# plt.plot([-1, 1], [0, 0])"
   ]
  },
  {
   "cell_type": "code",
   "execution_count": null,
   "id": "4b9a28cc",
   "metadata": {},
   "outputs": [],
   "source": []
  },
  {
   "cell_type": "markdown",
   "id": "cbd4cf54",
   "metadata": {},
   "source": [
    "# 시각화"
   ]
  },
  {
   "cell_type": "code",
   "execution_count": null,
   "id": "a928b94e",
   "metadata": {},
   "outputs": [],
   "source": [
    "N_list = [64, 128, 256, 512, 1024]\n",
    "times_2 = [69, 189, 582, 2126, 8633]\n",
    "times_4 = [56, 134, 373, 1220, 4507] # 단위(ms)\n",
    "times_8 = [65, 145, 379, 1013, 3002]\n"
   ]
  },
  {
   "cell_type": "markdown",
   "id": "beb744c4",
   "metadata": {},
   "source": [
    "# 마지막 수정"
   ]
  },
  {
   "cell_type": "code",
   "execution_count": 455,
   "id": "d657040b",
   "metadata": {},
   "outputs": [],
   "source": [
    "folder_name = \"results\"\n",
    "file_name = \"rhs\"\n",
    "\n",
    "x0 = -1\n",
    "xN = 1\n",
    "y0 = -1\n",
    "yN = 1\n",
    "\n",
    "nx = 32\n",
    "ny = 32\n",
    "\n",
    "nx1 = nx+2\n",
    "ny1 = ny+2\n",
    "\n",
    "npx = 2\n",
    "npy = 2 \n",
    "\n",
    "mx = nx/npx\n",
    "my = ny/npy\n",
    "\n",
    "dx = (xN-x0)/nx\n",
    "dy = (yN-y0)/ny\n",
    "\n",
    "x = np.zeros(nx+2)\n",
    "y = np.zeros(ny+2)\n",
    "\n",
    "for i in range(nx+2):\n",
    "    if i==0:\n",
    "        x[i] = x0\n",
    "    elif i==nx+1:\n",
    "        x[i] = xN\n",
    "    else:\n",
    "        x[i] = x0 + dx/2 + dx*(i-1)\n",
    "for j in range(ny+2):\n",
    "    if j==0:\n",
    "        y[j] = y0\n",
    "    elif j==ny+1:\n",
    "        y[j] = yN\n",
    "    else:\n",
    "        y[j] = y0 + dy/2 + dy*(j-1)"
   ]
  },
  {
   "cell_type": "code",
   "execution_count": null,
   "id": "e73070dc",
   "metadata": {},
   "outputs": [
    {
     "name": "stderr",
     "output_type": "stream",
     "text": [
      "C:\\Users\\MPMC24114\\AppData\\Local\\Temp\\ipykernel_17948\\3536695801.py:122: RuntimeWarning: overflow encountered in square\n",
      "  error = np.sqrt(np.sum((theta - theta_old)**2)/nx/ny)\n"
     ]
    }
   ],
   "source": [
    "def TDMA(a, b, c, d, n1):\n",
    "\n",
    "    d[0] /= b[0]\n",
    "    c[0] /= b[0]\n",
    "\n",
    "    for i in range(1, n1):\n",
    "        r = 1 / (b[i]-a[i]*c[i-1])\n",
    "        d[i] = r * (d[i] - a[i]*d[i-1])\n",
    "        c[i] = r*c[i]\n",
    "    \n",
    "    for i in range(n1-2, -1, -1):\n",
    "        d[i] = d[i] - c[i]*d[i+1]\n",
    "    \n",
    "    return d\n",
    "\n",
    "sol_1 = np.zeros((ny+2, nx+2))\n",
    "rhs_x = np.zeros((ny+2, nx+2))\n",
    "rhs_y = np.zeros((ny+2, nx+2))\n",
    "theta = np.zeros((ny+2, nx+2))\n",
    "theta_half = np.zeros((ny+2, nx+2))\n",
    "theta_old = np.zeros((ny+2, nx+2))\n",
    "\n",
    "theta_x_left_index = np.zeros(nx+2)\n",
    "theta_x_right_index = np.zeros(nx+2)\n",
    "theta_y_left_index = np.zeros(ny+2)\n",
    "theta_y_right_index = np.zeros(ny+2)\n",
    "theta_x_left_index[1] = 1\n",
    "theta_x_right_index[-2] = 1\n",
    "theta_y_left_index[1] = 1\n",
    "theta_y_right_index[-2] = 1\n",
    "\n",
    "Ax = np.zeros((nx1-2))\n",
    "Bx = np.zeros((nx1-2))\n",
    "Cx = np.zeros((nx1-2))\n",
    "Dx = np.zeros((nx1-2))\n",
    "\n",
    "Ay = np.zeros((ny1-2))\n",
    "By = np.zeros((ny1-2))\n",
    "Cy = np.zeros((ny1-2))\n",
    "Dy = np.zeros((ny1-2))\n",
    "\n",
    "\n",
    "max_iter = 1000\n",
    "tol = 1e-12\n",
    "dt = 0.01\n",
    "\n",
    "TT = np.zeros((max_iter, ny+2, nx+2))\n",
    "\n",
    "for t in range(0, max_iter):\n",
    "\n",
    "    theta_old = theta.copy()\n",
    "\n",
    "    rhs_x = np.zeros((ny+2, nx+2))\n",
    "    rhs_y = np.zeros((ny+2, nx+2))\n",
    "\n",
    "    # for j in range(1, ny1-1):\n",
    "    #     for i in range(1, nx1-1):\n",
    "            \n",
    "    #         coef_y_a = (dt / 2 / (dy**2)) * ( 1 + 5/3 * theta_y_left_index[j] + 1/3 * theta_y_right_index[j] )\n",
    "    #         coef_y_b = (dt / 2 / (dy**2)) * (-2 -   2 * theta_y_left_index[j] -   2 * theta_y_right_index[j] )\n",
    "    #         coef_y_c = (dt / 2 / (dy**2)) * ( 1 + 1/3 * theta_y_left_index[j] + 5/3 * theta_y_right_index[j] )\n",
    "\n",
    "    #         rhs_y[j, i] = coef_y_c*theta[j+1, i] + (1+coef_y_b)*theta[j, i] + (coef_y_a)*theta[j-1, i]\n",
    "\n",
    "    # for j in range(1, ny1-1):\n",
    "    #     for i in range(1, nx1-1):\n",
    "\n",
    "    #         coef_x_a = (dt / 2 / (dx**2)) * ( 1 + 5/3 * theta_x_left_index[i] + 1/3 * theta_x_right_index[i] )\n",
    "    #         coef_x_b = (dt / 2 / (dx**2)) * (-2 -   2 * theta_x_left_index[i] -   2 * theta_x_right_index[i] )\n",
    "    #         coef_x_c = (dt / 2 / (dx**2)) * ( 1 + 1/3 * theta_x_left_index[i] + 5/3 * theta_x_right_index[i] )\n",
    "\n",
    "    #         rhs_x[j, i] = coef_x_c*rhs_y[j, i+1] + (1+coef_x_b)*rhs_y[j, i] + (coef_x_a)*rhs_y[j, i-1]\n",
    "\n",
    "    #         rhs_x[j, i] += dt * 2 * (2 - x[i]**2  - y[j]**2)\n",
    "\n",
    "    for j in range(1, ny1-1):\n",
    "        for i in range(1, nx1-1):\n",
    "\n",
    "            # coef_x_a = (dt / 2 / (dx**2)) * ( 1 + 5/3 * theta_x_left_index[i] + 1/3 * theta_x_right_index[i] )\n",
    "            # coef_x_b = (dt / 2 / (dx**2)) * (-2 -   2 * theta_x_left_index[i] -   2 * theta_x_right_index[i] )\n",
    "            # coef_x_c = (dt / 2 / (dx**2)) * ( 1 + 1/3 * theta_x_left_index[i] + 5/3 * theta_x_right_index[i] )\n",
    "\n",
    "            # coef_y_a = (dt / 2 / (dy**2)) * ( 1 + 5/3 * theta_y_left_index[j] + 1/3 * theta_y_right_index[j] )\n",
    "            # coef_y_b = (dt / 2 / (dy**2)) * (-2 -   2 * theta_y_left_index[j] -   2 * theta_y_right_index[j] )\n",
    "            # coef_y_c = (dt / 2 / (dy**2)) * ( 1 + 1/3 * theta_y_left_index[j] + 5/3 * theta_y_right_index[j] )\n",
    "\n",
    "            coef_x_a = (dt / 2 / (dx**2))\n",
    "            coef_x_b = (dt / 2 / (dx**2)) * 2\n",
    "            coef_x_c = (dt / 2 / (dx**2))\n",
    "\n",
    "            rhs_x[j, i] = coef_y_c*theta[j+1, i] + (1+coef_y_b)*theta[j, i] + (coef_y_a)*theta[j-1, i]\n",
    "            rhs_x[j, i] += coef_x_c*theta[j, i+1] + (1+coef_x_b)*theta[j, i] + (coef_x_a)*theta[j, i-1]\n",
    "\n",
    "            rhs_x[j, i] += dt * 2 * (2 - x[i]**2  - y[j]**2)\n",
    "\n",
    "    # x----------\n",
    "    for j in range(1, ny1-1):\n",
    "        for i in range(1, nx1-1):\n",
    "\n",
    "            coef_x_a = (dt / 2.0 / (dx**2)) * ( 1.0 + (1.0/3.0) * theta_x_right_index[i] ) * ( 1.0 - theta_x_left_index[i] )\n",
    "            coef_x_b = (dt / 2.0 / (dx**2)) * (-2.0 -     (2.0) * theta_x_left_index[i] -   (2.0) * theta_x_right_index[i] )\n",
    "            coef_x_c = (dt / 2.0 / (dx**2)) * ( 1.0 + (1.0/3.0) * theta_x_left_index[i] ) * ( 1.0 - theta_x_right_index[i] )\n",
    "\n",
    "            Ax[i-1] = -coef_x_a\n",
    "            Bx[i-1] = 1 - coef_x_b\n",
    "            Cx[i-1] = -coef_x_c\n",
    "            Dx[i-1] = rhs_x[j, i]\n",
    "        \n",
    "        theta_half[j, 1:-1] = TDMA(Ax, Bx, Cx, Dx, nx1-2)\n",
    "\n",
    "    # y --------------\n",
    "    for i in range(1, nx1-1):\n",
    "        for j in range(1, ny1-1):\n",
    "\n",
    "            coef_y_a = (dt / 2.0 / (dy**2)) * ( 1.0 + (1.0/3.0) * theta_y_right_index[j] ) * ( 1.0 - theta_y_left_index[j] )\n",
    "            coef_y_b = (dt / 2.0 / (dy**2)) * (-2.0 -     (2.0) * theta_y_left_index[j] -   (2.0) * theta_y_right_index[j] )\n",
    "            coef_y_c = (dt / 2.0 / (dy**2)) * ( 1.0 + (1.0/3.0) * theta_y_left_index[j] ) * ( 1.0 - theta_y_right_index[j] )\n",
    "\n",
    "            Ay[j-1] = -coef_y_a\n",
    "            By[j-1] = 1 - coef_y_b\n",
    "            Cy[j-1] = -coef_y_c\n",
    "            Dy[j-1] = theta_half[j, i]\n",
    "        \n",
    "        theta[1:-1, i] = TDMA(Ay, By, Cy, Dy, ny1-2)\n",
    "\n",
    "    error = np.sqrt(np.sum((theta - theta_old)**2)/nx/ny)\n",
    "    if error < tol:\n",
    "        print(f\"convege in {t}, error = {error}\")\n",
    "        break\n",
    "\n",
    "    # TT[t, :, :] = rhs_x[:, :]"
   ]
  },
  {
   "cell_type": "code",
   "execution_count": 460,
   "id": "2cb70ab6",
   "metadata": {},
   "outputs": [
    {
     "data": {
      "text/plain": [
       "<matplotlib.colorbar.Colorbar at 0x1859e21d880>"
      ]
     },
     "execution_count": 460,
     "metadata": {},
     "output_type": "execute_result"
    },
    {
     "data": {
      "image/png": "[encoded data removed]",
      "text/plain": [
       "<Figure size 600x500 with 2 Axes>"
      ]
     },
     "metadata": {},
     "output_type": "display_data"
    }
   ],
   "source": [
    "X, Y = np.meshgrid(x, y)\n",
    "\n",
    "plt.figure(figsize=(6, 5))        \n",
    "plt.contourf(X, Y, theta)\n",
    "plt.colorbar()"
   ]
  },
  {
   "cell_type": "code",
   "execution_count": null,
   "id": "e09966a4",
   "metadata": {},
   "outputs": [],
   "source": []
  }
 ],
 "metadata": {
  "kernelspec": {
   "display_name": "base",
   "language": "python",
   "name": "python3"
  },
  "language_info": {
   "codemirror_mode": {
    "name": "ipython",
    "version": 3
   },
   "file_extension": ".py",
   "mimetype": "text/x-python",
   "name": "python",
   "nbconvert_exporter": "python",
   "pygments_lexer": "ipython3",
   "version": "3.12.7"
  }
 },
 "nbformat": 4,
 "nbformat_minor": 5
}
