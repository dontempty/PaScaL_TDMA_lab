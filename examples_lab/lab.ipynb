{
 "cells": [
  {
   "cell_type": "code",
   "execution_count": 1,
   "id": "eb3f1753",
   "metadata": {},
   "outputs": [],
   "source": [
    "import numpy as np\n",
    "import matplotlib.pyplot as plt"
   ]
  },
  {
   "cell_type": "code",
   "execution_count": 8,
   "id": "fa1936f1",
   "metadata": {},
   "outputs": [],
   "source": [
    "import numpy as np\n",
    "\n",
    "# Given flat data\n",
    "haha = \"0 0 0 0 0 2 0 0 0 0 0 2 0 0 0 0 0 2 0 0 0 0 0 2 0 0 0 0 0 2 1 1 1 1 1 2\"\n",
    "flat = list(map(float, haha.split()))\n",
    "\n",
    "# Dimensions\n",
    "mx, my= 6, 6\n",
    "\n",
    "# Reshape to 3D\n",
    "arr3d = np.array(flat).reshape((my, mx))\n"
   ]
  },
  {
   "cell_type": "code",
   "execution_count": 9,
   "id": "1e466a59",
   "metadata": {},
   "outputs": [
    {
     "name": "stdout",
     "output_type": "stream",
     "text": [
      "i=0\n",
      " [0. 0. 0. 0. 0. 1.]\n",
      "i=-1\n",
      " [2. 2. 2. 2. 2. 2.]\n",
      "j=0\n",
      " [0. 0. 0. 0. 0. 2.]\n",
      "j=-1\n",
      " [1. 1. 1. 1. 1. 2.]\n"
     ]
    }
   ],
   "source": [
    "# 이제 각 면(ghost layer) 확인\n",
    "print(\"i=0\\n\", arr3d[:, 0])\n",
    "print(\"i=-1\\n\", arr3d[:, -1])\n",
    "\n",
    "print(\"j=0\\n\", arr3d[0, :])\n",
    "print(\"j=-1\\n\", arr3d[-1, :])"
   ]
  },
  {
   "cell_type": "code",
   "execution_count": 10,
   "id": "5c5f29e6",
   "metadata": {},
   "outputs": [
    {
     "data": {
      "text/plain": [
       "array([[0., 0., 0., 0., 0., 2.],\n",
       "       [0., 0., 0., 0., 0., 2.],\n",
       "       [0., 0., 0., 0., 0., 2.],\n",
       "       [0., 0., 0., 0., 0., 2.],\n",
       "       [0., 0., 0., 0., 0., 2.],\n",
       "       [1., 1., 1., 1., 1., 2.]])"
      ]
     },
     "execution_count": 10,
     "metadata": {},
     "output_type": "execute_result"
    }
   ],
   "source": [
    "arr3d"
   ]
  },
  {
   "cell_type": "code",
   "execution_count": null,
   "id": "4263ed4e",
   "metadata": {},
   "outputs": [],
   "source": []
  }
 ],
 "metadata": {
  "kernelspec": {
   "display_name": "base",
   "language": "python",
   "name": "python3"
  },
  "language_info": {
   "codemirror_mode": {
    "name": "ipython",
    "version": 3
   },
   "file_extension": ".py",
   "mimetype": "text/x-python",
   "name": "python",
   "nbconvert_exporter": "python",
   "pygments_lexer": "ipython3",
   "version": "3.12.7"
  }
 },
 "nbformat": 4,
 "nbformat_minor": 5
}
